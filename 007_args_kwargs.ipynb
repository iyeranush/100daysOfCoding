{
 "cells": [
  {
   "cell_type": "markdown",
   "metadata": {},
   "source": [
    "# What are *args and **kwargs?"
   ]
  },
  {
   "cell_type": "markdown",
   "metadata": {},
   "source": [
    "In python we use `*args` when we do not know how many arguments need to be passed to the function. The arguments accepted by *args are list or tuple."
   ]
  },
  {
   "cell_type": "markdown",
   "metadata": {},
   "source": [
    "We use `**kwargs`,  when we are unsure how many keyword arguments are passed to the function. It could also be dictionary as keyword arguments."
   ]
  },
  {
   "cell_type": "code",
   "execution_count": 4,
   "metadata": {
    "scrolled": false
   },
   "outputs": [
    {
     "name": "stdout",
     "output_type": "stream",
     "text": [
      "() {}\n",
      "(1, 2, 3) {}\n",
      "(1, 2, 3, 'groovy') {}\n",
      "() {'a': 1, 'b': 2, 'c': 3}\n",
      "() {'a': 1, 'b': 2, 'c': 3, 'zzz': 'hi'}\n",
      "(1, 2, 3) {'a': 1, 'b': 2, 'c': 3}\n",
      "(1, 2, 3) {'a': 7, 'b': 8, 'c': 9}\n",
      "(4, 5, 6) {'a': 7, 'b': 8, 'c': 9}\n",
      "(1, 2, 4, 5, 6) {}\n",
      "() {'q': 'winning', 'a': 7, 'b': 8, 'c': 9}\n",
      "(1, 2, 4, 5, 6) {'q': 'winning', 'a': 7, 'b': 8, 'c': 9}\n"
     ]
    }
   ],
   "source": [
    "def f(*args,**kwargs):\n",
    "    print(args, kwargs)\n",
    "\n",
    "l = [1,2,3]\n",
    "t = (4,5,6)\n",
    "d = {'a':7,'b':8,'c':9}\n",
    "\n",
    "f()\n",
    "f(1,2,3)                    # (1, 2, 3) {}\n",
    "f(1,2,3,\"groovy\")           # (1, 2, 3, 'groovy') {}\n",
    "f(a=1,b=2,c=3)              # () {'a': 1, 'c': 3, 'b': 2}\n",
    "f(a=1,b=2,c=3,zzz=\"hi\")     # () {'a': 1, 'c': 3, 'b': 2, 'zzz': 'hi'}\n",
    "f(1,2,3,a=1,b=2,c=3)        # (1, 2, 3) {'a': 1, 'c': 3, 'b': 2}\n",
    "\n",
    "f(*l,**d)                   # (1, 2, 3) {'a': 7, 'c': 9, 'b': 8}\n",
    "f(*t,**d)                   # (4, 5, 6) {'a': 7, 'c': 9, 'b': 8}\n",
    "f(1,2,*t)                   # (1, 2, 4, 5, 6) {}\n",
    "f(q=\"winning\",**d)          # () {'a': 7, 'q': 'winning', 'c': 9, 'b': 8}\n",
    "f(1,2,*t,q=\"winning\",**d)   # (1, 2, 4, 5, 6) {'a': 7, 'q': 'winning', 'c': 9, 'b': 8}\n"
   ]
  },
  {
   "cell_type": "code",
   "execution_count": 5,
   "metadata": {},
   "outputs": [
    {
     "name": "stdout",
     "output_type": "stream",
     "text": [
      "1 2 (3,) {}\n",
      "1 2 (3, 'groovy') {}\n",
      "1 2 () {'c': 3}\n",
      "1 2 () {'c': 3, 'zzz': 'hi'}\n",
      "1 2 (3,) {'a': 1, 'b': 2, 'c': 3}\n",
      "1 2 (3,) {'a': 7, 'b': 8, 'c': 9}\n",
      "4 5 (6,) {'a': 7, 'b': 8, 'c': 9}\n",
      "1 2 (4, 5, 6) {}\n",
      "1 1 () {'q': 'winning', 'a': 7, 'b': 8, 'c': 9}\n",
      "1 2 (4, 5, 6) {'q': 'winning', 'a': 7, 'b': 8, 'c': 9}\n"
     ]
    }
   ],
   "source": [
    "def f2(arg1,arg2,*args,**kwargs): print(arg1,arg2, args, kwargs)\n",
    "\n",
    "f2(1,2,3)                       # 1 2 (3,) {}\n",
    "f2(1,2,3,\"groovy\")              # 1 2 (3, 'groovy') {}\n",
    "f2(arg1=1,arg2=2,c=3)           # 1 2 () {'c': 3}\n",
    "f2(arg1=1,arg2=2,c=3,zzz=\"hi\")  # 1 2 () {'c': 3, 'zzz': 'hi'}\n",
    "f2(1,2,3,a=1,b=2,c=3)           # 1 2 (3,) {'a': 1, 'c': 3, 'b': 2}\n",
    "\n",
    "f2(*l,**d)                   # 1 2 (3,) {'a': 7, 'c': 9, 'b': 8}\n",
    "f2(*t,**d)                   # 4 5 (6,) {'a': 7, 'c': 9, 'b': 8}\n",
    "f2(1,2,*t)                   # 1 2 (4, 5, 6) {}\n",
    "f2(1,1,q=\"winning\",**d)      # 1 1 () {'a': 7, 'q': 'winning', 'c': 9, 'b': 8}\n",
    "f2(1,2,*t,q=\"winning\",**d)   # 1 2 (4, 5, 6) {'a': 7, 'q': 'winning', 'c': 9, 'b': 8} "
   ]
  },
  {
   "cell_type": "markdown",
   "metadata": {},
   "source": [
    "Reference: https://www.codementor.io/sheena/essential-python-interview-questions-du107ozr6"
   ]
  },
  {
   "cell_type": "code",
   "execution_count": null,
   "metadata": {
    "collapsed": true
   },
   "outputs": [],
   "source": []
  }
 ],
 "metadata": {
  "kernelspec": {
   "display_name": "Python 3",
   "language": "python",
   "name": "python3"
  },
  "language_info": {
   "codemirror_mode": {
    "name": "ipython",
    "version": 3
   },
   "file_extension": ".py",
   "mimetype": "text/x-python",
   "name": "python",
   "nbconvert_exporter": "python",
   "pygments_lexer": "ipython3",
   "version": "3.6.3"
  }
 },
 "nbformat": 4,
 "nbformat_minor": 2
}
