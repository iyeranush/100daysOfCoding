{
 "cells": [
  {
   "cell_type": "raw",
   "metadata": {},
   "source": [
    "To use dict() and zip() function in python3"
   ]
  },
  {
   "cell_type": "code",
   "execution_count": 1,
   "metadata": {},
   "outputs": [
    {
     "name": "stdout",
     "output_type": "stream",
     "text": [
      "{'fruit': 'apple', 'color': 'orange'}\n"
     ]
    }
   ],
   "source": [
    "A0 = dict(zip(('a', 'b'), (1, 2)))\n",
    "print(resulting_dictionary)"
   ]
  },
  {
   "cell_type": "raw",
   "metadata": {},
   "source": [
    "To use range(n) function in python which returns a list of iterable numbers from 0 to the n-1."
   ]
  },
  {
   "cell_type": "code",
   "execution_count": 2,
   "metadata": {},
   "outputs": [
    {
     "name": "stdout",
     "output_type": "stream",
     "text": [
      "0\n",
      "1\n",
      "2\n",
      "3\n",
      "4\n"
     ]
    }
   ],
   "source": [
    "A1 = range(5)\n",
    "for number in A1:\n",
    "    print(number)"
   ]
  },
  {
   "cell_type": "raw",
   "metadata": {},
   "source": [
    "To use sorted(list) function in python which sorts the list and returns a sorted list."
   ]
  },
  {
   "cell_type": "code",
   "execution_count": 6,
   "metadata": {},
   "outputs": [
    {
     "name": "stdout",
     "output_type": "stream",
     "text": [
      "[1, 2, 3, 4]\n"
     ]
    }
   ],
   "source": [
    "A2 = sorted([4, 1, 3, 2])\n",
    "print(A2)"
   ]
  },
  {
   "cell_type": "raw",
   "metadata": {},
   "source": [
    "To use list.sort() function which sorts the list in memory."
   ]
  },
  {
   "cell_type": "code",
   "execution_count": 9,
   "metadata": {},
   "outputs": [
    {
     "name": "stdout",
     "output_type": "stream",
     "text": [
      "[1, 2, 3, 4]\n"
     ]
    }
   ],
   "source": [
    "A3 = [4, 1, 3, 2]\n",
    "A3.sort()\n",
    "print(A3)"
   ]
  },
  {
   "cell_type": "raw",
   "metadata": {},
   "source": [
    "Working with default values for arguments."
   ]
  },
  {
   "cell_type": "code",
   "execution_count": 10,
   "metadata": {},
   "outputs": [
    {
     "name": "stdout",
     "output_type": "stream",
     "text": [
      "[0, 1]\n",
      "[3, 2, 1, 0, 1, 4]\n",
      "[0, 1, 0, 1, 4]\n"
     ]
    }
   ],
   "source": [
    "def f(x,l=[]):\n",
    "    for i in range(x):\n",
    "        l.append(i*i)\n",
    "    print(l) \n",
    "\n",
    "f(2)\n",
    "f(3,[3,2,1])\n",
    "f(3)"
   ]
  },
  {
   "cell_type": "raw",
   "metadata": {},
   "source": [
    "The above code is similar to the working of the one below. "
   ]
  },
  {
   "cell_type": "code",
   "execution_count": 11,
   "metadata": {},
   "outputs": [
    {
     "name": "stdout",
     "output_type": "stream",
     "text": [
      "[0, 1]\n",
      "[3, 2, 1, 0, 1, 4]\n",
      "[0, 1, 0, 1, 4]\n"
     ]
    }
   ],
   "source": [
    "l_mem = []\n",
    "\n",
    "l = l_mem           # the first call\n",
    "for i in range(2):\n",
    "    l.append(i*i)\n",
    "\n",
    "print(l)            # [0, 1]\n",
    "\n",
    "l = [3,2,1]         # the second call\n",
    "for i in range(3):\n",
    "    l.append(i*i)\n",
    "\n",
    "print(l)            # [3, 2, 1, 0, 1, 4]\n",
    "\n",
    "l = l_mem           # the third call\n",
    "for i in range(3):\n",
    "    l.append(i*i)\n",
    "\n",
    "print(l)            # [0, 1, 0, 1, 4]"
   ]
  },
  {
   "cell_type": "code",
   "execution_count": null,
   "metadata": {
    "collapsed": true
   },
   "outputs": [],
   "source": []
  }
 ],
 "metadata": {
  "kernelspec": {
   "display_name": "Python 3",
   "language": "python",
   "name": "python3"
  },
  "language_info": {
   "codemirror_mode": {
    "name": "ipython",
    "version": 3
   },
   "file_extension": ".py",
   "mimetype": "text/x-python",
   "name": "python",
   "nbconvert_exporter": "python",
   "pygments_lexer": "ipython3",
   "version": "3.6.3"
  }
 },
 "nbformat": 4,
 "nbformat_minor": 2
}
